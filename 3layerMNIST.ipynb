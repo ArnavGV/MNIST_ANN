{
  "nbformat": 4,
  "nbformat_minor": 0,
  "metadata": {
    "colab": {
      "provenance": []
    },
    "kernelspec": {
      "name": "python3",
      "display_name": "Python 3"
    },
    "language_info": {
      "name": "python"
    },
    "widgets": {
      "application/vnd.jupyter.widget-state+json": {
        "c22b365f3fb843329590477aea9fee8a": {
          "model_module": "@jupyter-widgets/controls",
          "model_name": "HBoxModel",
          "model_module_version": "1.5.0",
          "state": {
            "_dom_classes": [],
            "_model_module": "@jupyter-widgets/controls",
            "_model_module_version": "1.5.0",
            "_model_name": "HBoxModel",
            "_view_count": null,
            "_view_module": "@jupyter-widgets/controls",
            "_view_module_version": "1.5.0",
            "_view_name": "HBoxView",
            "box_style": "",
            "children": [
              "IPY_MODEL_77f646d448f647ad97ee4a8a10a57b9f",
              "IPY_MODEL_03b667f8217342e89043b218ead3cd8b",
              "IPY_MODEL_6fdf10d4eafe4c6db98e348da710c321"
            ],
            "layout": "IPY_MODEL_952b8d2da26a4d858bc4ff721b1d65ba"
          }
        },
        "77f646d448f647ad97ee4a8a10a57b9f": {
          "model_module": "@jupyter-widgets/controls",
          "model_name": "HTMLModel",
          "model_module_version": "1.5.0",
          "state": {
            "_dom_classes": [],
            "_model_module": "@jupyter-widgets/controls",
            "_model_module_version": "1.5.0",
            "_model_name": "HTMLModel",
            "_view_count": null,
            "_view_module": "@jupyter-widgets/controls",
            "_view_module_version": "1.5.0",
            "_view_name": "HTMLView",
            "description": "",
            "description_tooltip": null,
            "layout": "IPY_MODEL_433fd8861e5346838f65cfd5ba8a7e54",
            "placeholder": "​",
            "style": "IPY_MODEL_e7485ad810174688afc5ded2f2a5357a",
            "value": "100%"
          }
        },
        "03b667f8217342e89043b218ead3cd8b": {
          "model_module": "@jupyter-widgets/controls",
          "model_name": "FloatProgressModel",
          "model_module_version": "1.5.0",
          "state": {
            "_dom_classes": [],
            "_model_module": "@jupyter-widgets/controls",
            "_model_module_version": "1.5.0",
            "_model_name": "FloatProgressModel",
            "_view_count": null,
            "_view_module": "@jupyter-widgets/controls",
            "_view_module_version": "1.5.0",
            "_view_name": "ProgressView",
            "bar_style": "success",
            "description": "",
            "description_tooltip": null,
            "layout": "IPY_MODEL_0efadba335124933aac2ee0e7a1fce37",
            "max": 9912422,
            "min": 0,
            "orientation": "horizontal",
            "style": "IPY_MODEL_1da829d657ec427796aa284ead26ada1",
            "value": 9912422
          }
        },
        "6fdf10d4eafe4c6db98e348da710c321": {
          "model_module": "@jupyter-widgets/controls",
          "model_name": "HTMLModel",
          "model_module_version": "1.5.0",
          "state": {
            "_dom_classes": [],
            "_model_module": "@jupyter-widgets/controls",
            "_model_module_version": "1.5.0",
            "_model_name": "HTMLModel",
            "_view_count": null,
            "_view_module": "@jupyter-widgets/controls",
            "_view_module_version": "1.5.0",
            "_view_name": "HTMLView",
            "description": "",
            "description_tooltip": null,
            "layout": "IPY_MODEL_84bd6196894d478ba1f7028b10f7a720",
            "placeholder": "​",
            "style": "IPY_MODEL_4c1eed164a774c0f818e3d4cdedd028d",
            "value": " 9912422/9912422 [00:00&lt;00:00, 11455318.99it/s]"
          }
        },
        "952b8d2da26a4d858bc4ff721b1d65ba": {
          "model_module": "@jupyter-widgets/base",
          "model_name": "LayoutModel",
          "model_module_version": "1.2.0",
          "state": {
            "_model_module": "@jupyter-widgets/base",
            "_model_module_version": "1.2.0",
            "_model_name": "LayoutModel",
            "_view_count": null,
            "_view_module": "@jupyter-widgets/base",
            "_view_module_version": "1.2.0",
            "_view_name": "LayoutView",
            "align_content": null,
            "align_items": null,
            "align_self": null,
            "border": null,
            "bottom": null,
            "display": null,
            "flex": null,
            "flex_flow": null,
            "grid_area": null,
            "grid_auto_columns": null,
            "grid_auto_flow": null,
            "grid_auto_rows": null,
            "grid_column": null,
            "grid_gap": null,
            "grid_row": null,
            "grid_template_areas": null,
            "grid_template_columns": null,
            "grid_template_rows": null,
            "height": null,
            "justify_content": null,
            "justify_items": null,
            "left": null,
            "margin": null,
            "max_height": null,
            "max_width": null,
            "min_height": null,
            "min_width": null,
            "object_fit": null,
            "object_position": null,
            "order": null,
            "overflow": null,
            "overflow_x": null,
            "overflow_y": null,
            "padding": null,
            "right": null,
            "top": null,
            "visibility": null,
            "width": null
          }
        },
        "433fd8861e5346838f65cfd5ba8a7e54": {
          "model_module": "@jupyter-widgets/base",
          "model_name": "LayoutModel",
          "model_module_version": "1.2.0",
          "state": {
            "_model_module": "@jupyter-widgets/base",
            "_model_module_version": "1.2.0",
            "_model_name": "LayoutModel",
            "_view_count": null,
            "_view_module": "@jupyter-widgets/base",
            "_view_module_version": "1.2.0",
            "_view_name": "LayoutView",
            "align_content": null,
            "align_items": null,
            "align_self": null,
            "border": null,
            "bottom": null,
            "display": null,
            "flex": null,
            "flex_flow": null,
            "grid_area": null,
            "grid_auto_columns": null,
            "grid_auto_flow": null,
            "grid_auto_rows": null,
            "grid_column": null,
            "grid_gap": null,
            "grid_row": null,
            "grid_template_areas": null,
            "grid_template_columns": null,
            "grid_template_rows": null,
            "height": null,
            "justify_content": null,
            "justify_items": null,
            "left": null,
            "margin": null,
            "max_height": null,
            "max_width": null,
            "min_height": null,
            "min_width": null,
            "object_fit": null,
            "object_position": null,
            "order": null,
            "overflow": null,
            "overflow_x": null,
            "overflow_y": null,
            "padding": null,
            "right": null,
            "top": null,
            "visibility": null,
            "width": null
          }
        },
        "e7485ad810174688afc5ded2f2a5357a": {
          "model_module": "@jupyter-widgets/controls",
          "model_name": "DescriptionStyleModel",
          "model_module_version": "1.5.0",
          "state": {
            "_model_module": "@jupyter-widgets/controls",
            "_model_module_version": "1.5.0",
            "_model_name": "DescriptionStyleModel",
            "_view_count": null,
            "_view_module": "@jupyter-widgets/base",
            "_view_module_version": "1.2.0",
            "_view_name": "StyleView",
            "description_width": ""
          }
        },
        "0efadba335124933aac2ee0e7a1fce37": {
          "model_module": "@jupyter-widgets/base",
          "model_name": "LayoutModel",
          "model_module_version": "1.2.0",
          "state": {
            "_model_module": "@jupyter-widgets/base",
            "_model_module_version": "1.2.0",
            "_model_name": "LayoutModel",
            "_view_count": null,
            "_view_module": "@jupyter-widgets/base",
            "_view_module_version": "1.2.0",
            "_view_name": "LayoutView",
            "align_content": null,
            "align_items": null,
            "align_self": null,
            "border": null,
            "bottom": null,
            "display": null,
            "flex": null,
            "flex_flow": null,
            "grid_area": null,
            "grid_auto_columns": null,
            "grid_auto_flow": null,
            "grid_auto_rows": null,
            "grid_column": null,
            "grid_gap": null,
            "grid_row": null,
            "grid_template_areas": null,
            "grid_template_columns": null,
            "grid_template_rows": null,
            "height": null,
            "justify_content": null,
            "justify_items": null,
            "left": null,
            "margin": null,
            "max_height": null,
            "max_width": null,
            "min_height": null,
            "min_width": null,
            "object_fit": null,
            "object_position": null,
            "order": null,
            "overflow": null,
            "overflow_x": null,
            "overflow_y": null,
            "padding": null,
            "right": null,
            "top": null,
            "visibility": null,
            "width": null
          }
        },
        "1da829d657ec427796aa284ead26ada1": {
          "model_module": "@jupyter-widgets/controls",
          "model_name": "ProgressStyleModel",
          "model_module_version": "1.5.0",
          "state": {
            "_model_module": "@jupyter-widgets/controls",
            "_model_module_version": "1.5.0",
            "_model_name": "ProgressStyleModel",
            "_view_count": null,
            "_view_module": "@jupyter-widgets/base",
            "_view_module_version": "1.2.0",
            "_view_name": "StyleView",
            "bar_color": null,
            "description_width": ""
          }
        },
        "84bd6196894d478ba1f7028b10f7a720": {
          "model_module": "@jupyter-widgets/base",
          "model_name": "LayoutModel",
          "model_module_version": "1.2.0",
          "state": {
            "_model_module": "@jupyter-widgets/base",
            "_model_module_version": "1.2.0",
            "_model_name": "LayoutModel",
            "_view_count": null,
            "_view_module": "@jupyter-widgets/base",
            "_view_module_version": "1.2.0",
            "_view_name": "LayoutView",
            "align_content": null,
            "align_items": null,
            "align_self": null,
            "border": null,
            "bottom": null,
            "display": null,
            "flex": null,
            "flex_flow": null,
            "grid_area": null,
            "grid_auto_columns": null,
            "grid_auto_flow": null,
            "grid_auto_rows": null,
            "grid_column": null,
            "grid_gap": null,
            "grid_row": null,
            "grid_template_areas": null,
            "grid_template_columns": null,
            "grid_template_rows": null,
            "height": null,
            "justify_content": null,
            "justify_items": null,
            "left": null,
            "margin": null,
            "max_height": null,
            "max_width": null,
            "min_height": null,
            "min_width": null,
            "object_fit": null,
            "object_position": null,
            "order": null,
            "overflow": null,
            "overflow_x": null,
            "overflow_y": null,
            "padding": null,
            "right": null,
            "top": null,
            "visibility": null,
            "width": null
          }
        },
        "4c1eed164a774c0f818e3d4cdedd028d": {
          "model_module": "@jupyter-widgets/controls",
          "model_name": "DescriptionStyleModel",
          "model_module_version": "1.5.0",
          "state": {
            "_model_module": "@jupyter-widgets/controls",
            "_model_module_version": "1.5.0",
            "_model_name": "DescriptionStyleModel",
            "_view_count": null,
            "_view_module": "@jupyter-widgets/base",
            "_view_module_version": "1.2.0",
            "_view_name": "StyleView",
            "description_width": ""
          }
        },
        "02d32a3f6edd4db8b1d6e5ff092b6d25": {
          "model_module": "@jupyter-widgets/controls",
          "model_name": "HBoxModel",
          "model_module_version": "1.5.0",
          "state": {
            "_dom_classes": [],
            "_model_module": "@jupyter-widgets/controls",
            "_model_module_version": "1.5.0",
            "_model_name": "HBoxModel",
            "_view_count": null,
            "_view_module": "@jupyter-widgets/controls",
            "_view_module_version": "1.5.0",
            "_view_name": "HBoxView",
            "box_style": "",
            "children": [
              "IPY_MODEL_260b1defc1034eae8266d2c34ac53d00",
              "IPY_MODEL_af11f0c7af864628a9ba24f0d13264cd",
              "IPY_MODEL_2772bfbb71e34951ab45503bf9e0c27f"
            ],
            "layout": "IPY_MODEL_9423ec0420af4a6dbc156ddbe2ef6d6c"
          }
        },
        "260b1defc1034eae8266d2c34ac53d00": {
          "model_module": "@jupyter-widgets/controls",
          "model_name": "HTMLModel",
          "model_module_version": "1.5.0",
          "state": {
            "_dom_classes": [],
            "_model_module": "@jupyter-widgets/controls",
            "_model_module_version": "1.5.0",
            "_model_name": "HTMLModel",
            "_view_count": null,
            "_view_module": "@jupyter-widgets/controls",
            "_view_module_version": "1.5.0",
            "_view_name": "HTMLView",
            "description": "",
            "description_tooltip": null,
            "layout": "IPY_MODEL_3186dacde3e84414ae724a6282a09b4c",
            "placeholder": "​",
            "style": "IPY_MODEL_aff3384df14e4cf5b3290bca08fc2f3e",
            "value": "100%"
          }
        },
        "af11f0c7af864628a9ba24f0d13264cd": {
          "model_module": "@jupyter-widgets/controls",
          "model_name": "FloatProgressModel",
          "model_module_version": "1.5.0",
          "state": {
            "_dom_classes": [],
            "_model_module": "@jupyter-widgets/controls",
            "_model_module_version": "1.5.0",
            "_model_name": "FloatProgressModel",
            "_view_count": null,
            "_view_module": "@jupyter-widgets/controls",
            "_view_module_version": "1.5.0",
            "_view_name": "ProgressView",
            "bar_style": "success",
            "description": "",
            "description_tooltip": null,
            "layout": "IPY_MODEL_720ea7a8a7eb47c7958716e4576e1644",
            "max": 28881,
            "min": 0,
            "orientation": "horizontal",
            "style": "IPY_MODEL_09dd03e228224c0983e6d4162b2dd9b2",
            "value": 28881
          }
        },
        "2772bfbb71e34951ab45503bf9e0c27f": {
          "model_module": "@jupyter-widgets/controls",
          "model_name": "HTMLModel",
          "model_module_version": "1.5.0",
          "state": {
            "_dom_classes": [],
            "_model_module": "@jupyter-widgets/controls",
            "_model_module_version": "1.5.0",
            "_model_name": "HTMLModel",
            "_view_count": null,
            "_view_module": "@jupyter-widgets/controls",
            "_view_module_version": "1.5.0",
            "_view_name": "HTMLView",
            "description": "",
            "description_tooltip": null,
            "layout": "IPY_MODEL_8b24f762cb7b4bf6b13d3e98a2bf9e19",
            "placeholder": "​",
            "style": "IPY_MODEL_b7a6f54abb7843f39ddd101beb222d25",
            "value": " 28881/28881 [00:00&lt;00:00, 1467013.36it/s]"
          }
        },
        "9423ec0420af4a6dbc156ddbe2ef6d6c": {
          "model_module": "@jupyter-widgets/base",
          "model_name": "LayoutModel",
          "model_module_version": "1.2.0",
          "state": {
            "_model_module": "@jupyter-widgets/base",
            "_model_module_version": "1.2.0",
            "_model_name": "LayoutModel",
            "_view_count": null,
            "_view_module": "@jupyter-widgets/base",
            "_view_module_version": "1.2.0",
            "_view_name": "LayoutView",
            "align_content": null,
            "align_items": null,
            "align_self": null,
            "border": null,
            "bottom": null,
            "display": null,
            "flex": null,
            "flex_flow": null,
            "grid_area": null,
            "grid_auto_columns": null,
            "grid_auto_flow": null,
            "grid_auto_rows": null,
            "grid_column": null,
            "grid_gap": null,
            "grid_row": null,
            "grid_template_areas": null,
            "grid_template_columns": null,
            "grid_template_rows": null,
            "height": null,
            "justify_content": null,
            "justify_items": null,
            "left": null,
            "margin": null,
            "max_height": null,
            "max_width": null,
            "min_height": null,
            "min_width": null,
            "object_fit": null,
            "object_position": null,
            "order": null,
            "overflow": null,
            "overflow_x": null,
            "overflow_y": null,
            "padding": null,
            "right": null,
            "top": null,
            "visibility": null,
            "width": null
          }
        },
        "3186dacde3e84414ae724a6282a09b4c": {
          "model_module": "@jupyter-widgets/base",
          "model_name": "LayoutModel",
          "model_module_version": "1.2.0",
          "state": {
            "_model_module": "@jupyter-widgets/base",
            "_model_module_version": "1.2.0",
            "_model_name": "LayoutModel",
            "_view_count": null,
            "_view_module": "@jupyter-widgets/base",
            "_view_module_version": "1.2.0",
            "_view_name": "LayoutView",
            "align_content": null,
            "align_items": null,
            "align_self": null,
            "border": null,
            "bottom": null,
            "display": null,
            "flex": null,
            "flex_flow": null,
            "grid_area": null,
            "grid_auto_columns": null,
            "grid_auto_flow": null,
            "grid_auto_rows": null,
            "grid_column": null,
            "grid_gap": null,
            "grid_row": null,
            "grid_template_areas": null,
            "grid_template_columns": null,
            "grid_template_rows": null,
            "height": null,
            "justify_content": null,
            "justify_items": null,
            "left": null,
            "margin": null,
            "max_height": null,
            "max_width": null,
            "min_height": null,
            "min_width": null,
            "object_fit": null,
            "object_position": null,
            "order": null,
            "overflow": null,
            "overflow_x": null,
            "overflow_y": null,
            "padding": null,
            "right": null,
            "top": null,
            "visibility": null,
            "width": null
          }
        },
        "aff3384df14e4cf5b3290bca08fc2f3e": {
          "model_module": "@jupyter-widgets/controls",
          "model_name": "DescriptionStyleModel",
          "model_module_version": "1.5.0",
          "state": {
            "_model_module": "@jupyter-widgets/controls",
            "_model_module_version": "1.5.0",
            "_model_name": "DescriptionStyleModel",
            "_view_count": null,
            "_view_module": "@jupyter-widgets/base",
            "_view_module_version": "1.2.0",
            "_view_name": "StyleView",
            "description_width": ""
          }
        },
        "720ea7a8a7eb47c7958716e4576e1644": {
          "model_module": "@jupyter-widgets/base",
          "model_name": "LayoutModel",
          "model_module_version": "1.2.0",
          "state": {
            "_model_module": "@jupyter-widgets/base",
            "_model_module_version": "1.2.0",
            "_model_name": "LayoutModel",
            "_view_count": null,
            "_view_module": "@jupyter-widgets/base",
            "_view_module_version": "1.2.0",
            "_view_name": "LayoutView",
            "align_content": null,
            "align_items": null,
            "align_self": null,
            "border": null,
            "bottom": null,
            "display": null,
            "flex": null,
            "flex_flow": null,
            "grid_area": null,
            "grid_auto_columns": null,
            "grid_auto_flow": null,
            "grid_auto_rows": null,
            "grid_column": null,
            "grid_gap": null,
            "grid_row": null,
            "grid_template_areas": null,
            "grid_template_columns": null,
            "grid_template_rows": null,
            "height": null,
            "justify_content": null,
            "justify_items": null,
            "left": null,
            "margin": null,
            "max_height": null,
            "max_width": null,
            "min_height": null,
            "min_width": null,
            "object_fit": null,
            "object_position": null,
            "order": null,
            "overflow": null,
            "overflow_x": null,
            "overflow_y": null,
            "padding": null,
            "right": null,
            "top": null,
            "visibility": null,
            "width": null
          }
        },
        "09dd03e228224c0983e6d4162b2dd9b2": {
          "model_module": "@jupyter-widgets/controls",
          "model_name": "ProgressStyleModel",
          "model_module_version": "1.5.0",
          "state": {
            "_model_module": "@jupyter-widgets/controls",
            "_model_module_version": "1.5.0",
            "_model_name": "ProgressStyleModel",
            "_view_count": null,
            "_view_module": "@jupyter-widgets/base",
            "_view_module_version": "1.2.0",
            "_view_name": "StyleView",
            "bar_color": null,
            "description_width": ""
          }
        },
        "8b24f762cb7b4bf6b13d3e98a2bf9e19": {
          "model_module": "@jupyter-widgets/base",
          "model_name": "LayoutModel",
          "model_module_version": "1.2.0",
          "state": {
            "_model_module": "@jupyter-widgets/base",
            "_model_module_version": "1.2.0",
            "_model_name": "LayoutModel",
            "_view_count": null,
            "_view_module": "@jupyter-widgets/base",
            "_view_module_version": "1.2.0",
            "_view_name": "LayoutView",
            "align_content": null,
            "align_items": null,
            "align_self": null,
            "border": null,
            "bottom": null,
            "display": null,
            "flex": null,
            "flex_flow": null,
            "grid_area": null,
            "grid_auto_columns": null,
            "grid_auto_flow": null,
            "grid_auto_rows": null,
            "grid_column": null,
            "grid_gap": null,
            "grid_row": null,
            "grid_template_areas": null,
            "grid_template_columns": null,
            "grid_template_rows": null,
            "height": null,
            "justify_content": null,
            "justify_items": null,
            "left": null,
            "margin": null,
            "max_height": null,
            "max_width": null,
            "min_height": null,
            "min_width": null,
            "object_fit": null,
            "object_position": null,
            "order": null,
            "overflow": null,
            "overflow_x": null,
            "overflow_y": null,
            "padding": null,
            "right": null,
            "top": null,
            "visibility": null,
            "width": null
          }
        },
        "b7a6f54abb7843f39ddd101beb222d25": {
          "model_module": "@jupyter-widgets/controls",
          "model_name": "DescriptionStyleModel",
          "model_module_version": "1.5.0",
          "state": {
            "_model_module": "@jupyter-widgets/controls",
            "_model_module_version": "1.5.0",
            "_model_name": "DescriptionStyleModel",
            "_view_count": null,
            "_view_module": "@jupyter-widgets/base",
            "_view_module_version": "1.2.0",
            "_view_name": "StyleView",
            "description_width": ""
          }
        },
        "6f76ba42dc30490c9f1fdb02d6f06434": {
          "model_module": "@jupyter-widgets/controls",
          "model_name": "HBoxModel",
          "model_module_version": "1.5.0",
          "state": {
            "_dom_classes": [],
            "_model_module": "@jupyter-widgets/controls",
            "_model_module_version": "1.5.0",
            "_model_name": "HBoxModel",
            "_view_count": null,
            "_view_module": "@jupyter-widgets/controls",
            "_view_module_version": "1.5.0",
            "_view_name": "HBoxView",
            "box_style": "",
            "children": [
              "IPY_MODEL_6e2a3b9932774e679cfce9242a74b435",
              "IPY_MODEL_adb8dfc40c894c40b12e1b2d110521c4",
              "IPY_MODEL_ec44c33d229b45c99522c04c16780124"
            ],
            "layout": "IPY_MODEL_606dc6cfd8ae4bc7aa84e85aea8ec7f0"
          }
        },
        "6e2a3b9932774e679cfce9242a74b435": {
          "model_module": "@jupyter-widgets/controls",
          "model_name": "HTMLModel",
          "model_module_version": "1.5.0",
          "state": {
            "_dom_classes": [],
            "_model_module": "@jupyter-widgets/controls",
            "_model_module_version": "1.5.0",
            "_model_name": "HTMLModel",
            "_view_count": null,
            "_view_module": "@jupyter-widgets/controls",
            "_view_module_version": "1.5.0",
            "_view_name": "HTMLView",
            "description": "",
            "description_tooltip": null,
            "layout": "IPY_MODEL_b754b88cb5ea4ac4bbf40f8786350e44",
            "placeholder": "​",
            "style": "IPY_MODEL_f6847a5861d54109aaf7563fbfdb03e5",
            "value": "100%"
          }
        },
        "adb8dfc40c894c40b12e1b2d110521c4": {
          "model_module": "@jupyter-widgets/controls",
          "model_name": "FloatProgressModel",
          "model_module_version": "1.5.0",
          "state": {
            "_dom_classes": [],
            "_model_module": "@jupyter-widgets/controls",
            "_model_module_version": "1.5.0",
            "_model_name": "FloatProgressModel",
            "_view_count": null,
            "_view_module": "@jupyter-widgets/controls",
            "_view_module_version": "1.5.0",
            "_view_name": "ProgressView",
            "bar_style": "success",
            "description": "",
            "description_tooltip": null,
            "layout": "IPY_MODEL_9e88ff3d8f9a4e168f3946b712c3fbdd",
            "max": 1648877,
            "min": 0,
            "orientation": "horizontal",
            "style": "IPY_MODEL_2167cae76a8c47ec92f4fef276cacc3b",
            "value": 1648877
          }
        },
        "ec44c33d229b45c99522c04c16780124": {
          "model_module": "@jupyter-widgets/controls",
          "model_name": "HTMLModel",
          "model_module_version": "1.5.0",
          "state": {
            "_dom_classes": [],
            "_model_module": "@jupyter-widgets/controls",
            "_model_module_version": "1.5.0",
            "_model_name": "HTMLModel",
            "_view_count": null,
            "_view_module": "@jupyter-widgets/controls",
            "_view_module_version": "1.5.0",
            "_view_name": "HTMLView",
            "description": "",
            "description_tooltip": null,
            "layout": "IPY_MODEL_f4a1abcc67a84a9e92af96e35d63cc28",
            "placeholder": "​",
            "style": "IPY_MODEL_75d6c8e94ed542f3aaec57cdc04a8135",
            "value": " 1648877/1648877 [00:00&lt;00:00, 11615971.62it/s]"
          }
        },
        "606dc6cfd8ae4bc7aa84e85aea8ec7f0": {
          "model_module": "@jupyter-widgets/base",
          "model_name": "LayoutModel",
          "model_module_version": "1.2.0",
          "state": {
            "_model_module": "@jupyter-widgets/base",
            "_model_module_version": "1.2.0",
            "_model_name": "LayoutModel",
            "_view_count": null,
            "_view_module": "@jupyter-widgets/base",
            "_view_module_version": "1.2.0",
            "_view_name": "LayoutView",
            "align_content": null,
            "align_items": null,
            "align_self": null,
            "border": null,
            "bottom": null,
            "display": null,
            "flex": null,
            "flex_flow": null,
            "grid_area": null,
            "grid_auto_columns": null,
            "grid_auto_flow": null,
            "grid_auto_rows": null,
            "grid_column": null,
            "grid_gap": null,
            "grid_row": null,
            "grid_template_areas": null,
            "grid_template_columns": null,
            "grid_template_rows": null,
            "height": null,
            "justify_content": null,
            "justify_items": null,
            "left": null,
            "margin": null,
            "max_height": null,
            "max_width": null,
            "min_height": null,
            "min_width": null,
            "object_fit": null,
            "object_position": null,
            "order": null,
            "overflow": null,
            "overflow_x": null,
            "overflow_y": null,
            "padding": null,
            "right": null,
            "top": null,
            "visibility": null,
            "width": null
          }
        },
        "b754b88cb5ea4ac4bbf40f8786350e44": {
          "model_module": "@jupyter-widgets/base",
          "model_name": "LayoutModel",
          "model_module_version": "1.2.0",
          "state": {
            "_model_module": "@jupyter-widgets/base",
            "_model_module_version": "1.2.0",
            "_model_name": "LayoutModel",
            "_view_count": null,
            "_view_module": "@jupyter-widgets/base",
            "_view_module_version": "1.2.0",
            "_view_name": "LayoutView",
            "align_content": null,
            "align_items": null,
            "align_self": null,
            "border": null,
            "bottom": null,
            "display": null,
            "flex": null,
            "flex_flow": null,
            "grid_area": null,
            "grid_auto_columns": null,
            "grid_auto_flow": null,
            "grid_auto_rows": null,
            "grid_column": null,
            "grid_gap": null,
            "grid_row": null,
            "grid_template_areas": null,
            "grid_template_columns": null,
            "grid_template_rows": null,
            "height": null,
            "justify_content": null,
            "justify_items": null,
            "left": null,
            "margin": null,
            "max_height": null,
            "max_width": null,
            "min_height": null,
            "min_width": null,
            "object_fit": null,
            "object_position": null,
            "order": null,
            "overflow": null,
            "overflow_x": null,
            "overflow_y": null,
            "padding": null,
            "right": null,
            "top": null,
            "visibility": null,
            "width": null
          }
        },
        "f6847a5861d54109aaf7563fbfdb03e5": {
          "model_module": "@jupyter-widgets/controls",
          "model_name": "DescriptionStyleModel",
          "model_module_version": "1.5.0",
          "state": {
            "_model_module": "@jupyter-widgets/controls",
            "_model_module_version": "1.5.0",
            "_model_name": "DescriptionStyleModel",
            "_view_count": null,
            "_view_module": "@jupyter-widgets/base",
            "_view_module_version": "1.2.0",
            "_view_name": "StyleView",
            "description_width": ""
          }
        },
        "9e88ff3d8f9a4e168f3946b712c3fbdd": {
          "model_module": "@jupyter-widgets/base",
          "model_name": "LayoutModel",
          "model_module_version": "1.2.0",
          "state": {
            "_model_module": "@jupyter-widgets/base",
            "_model_module_version": "1.2.0",
            "_model_name": "LayoutModel",
            "_view_count": null,
            "_view_module": "@jupyter-widgets/base",
            "_view_module_version": "1.2.0",
            "_view_name": "LayoutView",
            "align_content": null,
            "align_items": null,
            "align_self": null,
            "border": null,
            "bottom": null,
            "display": null,
            "flex": null,
            "flex_flow": null,
            "grid_area": null,
            "grid_auto_columns": null,
            "grid_auto_flow": null,
            "grid_auto_rows": null,
            "grid_column": null,
            "grid_gap": null,
            "grid_row": null,
            "grid_template_areas": null,
            "grid_template_columns": null,
            "grid_template_rows": null,
            "height": null,
            "justify_content": null,
            "justify_items": null,
            "left": null,
            "margin": null,
            "max_height": null,
            "max_width": null,
            "min_height": null,
            "min_width": null,
            "object_fit": null,
            "object_position": null,
            "order": null,
            "overflow": null,
            "overflow_x": null,
            "overflow_y": null,
            "padding": null,
            "right": null,
            "top": null,
            "visibility": null,
            "width": null
          }
        },
        "2167cae76a8c47ec92f4fef276cacc3b": {
          "model_module": "@jupyter-widgets/controls",
          "model_name": "ProgressStyleModel",
          "model_module_version": "1.5.0",
          "state": {
            "_model_module": "@jupyter-widgets/controls",
            "_model_module_version": "1.5.0",
            "_model_name": "ProgressStyleModel",
            "_view_count": null,
            "_view_module": "@jupyter-widgets/base",
            "_view_module_version": "1.2.0",
            "_view_name": "StyleView",
            "bar_color": null,
            "description_width": ""
          }
        },
        "f4a1abcc67a84a9e92af96e35d63cc28": {
          "model_module": "@jupyter-widgets/base",
          "model_name": "LayoutModel",
          "model_module_version": "1.2.0",
          "state": {
            "_model_module": "@jupyter-widgets/base",
            "_model_module_version": "1.2.0",
            "_model_name": "LayoutModel",
            "_view_count": null,
            "_view_module": "@jupyter-widgets/base",
            "_view_module_version": "1.2.0",
            "_view_name": "LayoutView",
            "align_content": null,
            "align_items": null,
            "align_self": null,
            "border": null,
            "bottom": null,
            "display": null,
            "flex": null,
            "flex_flow": null,
            "grid_area": null,
            "grid_auto_columns": null,
            "grid_auto_flow": null,
            "grid_auto_rows": null,
            "grid_column": null,
            "grid_gap": null,
            "grid_row": null,
            "grid_template_areas": null,
            "grid_template_columns": null,
            "grid_template_rows": null,
            "height": null,
            "justify_content": null,
            "justify_items": null,
            "left": null,
            "margin": null,
            "max_height": null,
            "max_width": null,
            "min_height": null,
            "min_width": null,
            "object_fit": null,
            "object_position": null,
            "order": null,
            "overflow": null,
            "overflow_x": null,
            "overflow_y": null,
            "padding": null,
            "right": null,
            "top": null,
            "visibility": null,
            "width": null
          }
        },
        "75d6c8e94ed542f3aaec57cdc04a8135": {
          "model_module": "@jupyter-widgets/controls",
          "model_name": "DescriptionStyleModel",
          "model_module_version": "1.5.0",
          "state": {
            "_model_module": "@jupyter-widgets/controls",
            "_model_module_version": "1.5.0",
            "_model_name": "DescriptionStyleModel",
            "_view_count": null,
            "_view_module": "@jupyter-widgets/base",
            "_view_module_version": "1.2.0",
            "_view_name": "StyleView",
            "description_width": ""
          }
        },
        "19558b81dd774e8fa9696cefbf839b33": {
          "model_module": "@jupyter-widgets/controls",
          "model_name": "HBoxModel",
          "model_module_version": "1.5.0",
          "state": {
            "_dom_classes": [],
            "_model_module": "@jupyter-widgets/controls",
            "_model_module_version": "1.5.0",
            "_model_name": "HBoxModel",
            "_view_count": null,
            "_view_module": "@jupyter-widgets/controls",
            "_view_module_version": "1.5.0",
            "_view_name": "HBoxView",
            "box_style": "",
            "children": [
              "IPY_MODEL_7030e3565bdd4afca4e2fb57cfe8b6e7",
              "IPY_MODEL_a41664f5e00b4b23b93a5968d7b804fc",
              "IPY_MODEL_8a05602a4edf4e4aa15c0c2a8527458b"
            ],
            "layout": "IPY_MODEL_aa9e9e79cbc0416380ebbbd5d5023265"
          }
        },
        "7030e3565bdd4afca4e2fb57cfe8b6e7": {
          "model_module": "@jupyter-widgets/controls",
          "model_name": "HTMLModel",
          "model_module_version": "1.5.0",
          "state": {
            "_dom_classes": [],
            "_model_module": "@jupyter-widgets/controls",
            "_model_module_version": "1.5.0",
            "_model_name": "HTMLModel",
            "_view_count": null,
            "_view_module": "@jupyter-widgets/controls",
            "_view_module_version": "1.5.0",
            "_view_name": "HTMLView",
            "description": "",
            "description_tooltip": null,
            "layout": "IPY_MODEL_c36fe5dcd1d74383bccdf8331605bd6e",
            "placeholder": "​",
            "style": "IPY_MODEL_f9204eb663af4956a4b8fa43e2a18f5e",
            "value": "100%"
          }
        },
        "a41664f5e00b4b23b93a5968d7b804fc": {
          "model_module": "@jupyter-widgets/controls",
          "model_name": "FloatProgressModel",
          "model_module_version": "1.5.0",
          "state": {
            "_dom_classes": [],
            "_model_module": "@jupyter-widgets/controls",
            "_model_module_version": "1.5.0",
            "_model_name": "FloatProgressModel",
            "_view_count": null,
            "_view_module": "@jupyter-widgets/controls",
            "_view_module_version": "1.5.0",
            "_view_name": "ProgressView",
            "bar_style": "success",
            "description": "",
            "description_tooltip": null,
            "layout": "IPY_MODEL_b7f1112be05b414fb347a421e6a591bc",
            "max": 4542,
            "min": 0,
            "orientation": "horizontal",
            "style": "IPY_MODEL_b9c8e714d9f5426c89bb28761feb4f02",
            "value": 4542
          }
        },
        "8a05602a4edf4e4aa15c0c2a8527458b": {
          "model_module": "@jupyter-widgets/controls",
          "model_name": "HTMLModel",
          "model_module_version": "1.5.0",
          "state": {
            "_dom_classes": [],
            "_model_module": "@jupyter-widgets/controls",
            "_model_module_version": "1.5.0",
            "_model_name": "HTMLModel",
            "_view_count": null,
            "_view_module": "@jupyter-widgets/controls",
            "_view_module_version": "1.5.0",
            "_view_name": "HTMLView",
            "description": "",
            "description_tooltip": null,
            "layout": "IPY_MODEL_34eac96f4aa44648acb71370bd61f59e",
            "placeholder": "​",
            "style": "IPY_MODEL_21556dc37ec64f6b83748ca6dffddaee",
            "value": " 4542/4542 [00:00&lt;00:00, 181198.91it/s]"
          }
        },
        "aa9e9e79cbc0416380ebbbd5d5023265": {
          "model_module": "@jupyter-widgets/base",
          "model_name": "LayoutModel",
          "model_module_version": "1.2.0",
          "state": {
            "_model_module": "@jupyter-widgets/base",
            "_model_module_version": "1.2.0",
            "_model_name": "LayoutModel",
            "_view_count": null,
            "_view_module": "@jupyter-widgets/base",
            "_view_module_version": "1.2.0",
            "_view_name": "LayoutView",
            "align_content": null,
            "align_items": null,
            "align_self": null,
            "border": null,
            "bottom": null,
            "display": null,
            "flex": null,
            "flex_flow": null,
            "grid_area": null,
            "grid_auto_columns": null,
            "grid_auto_flow": null,
            "grid_auto_rows": null,
            "grid_column": null,
            "grid_gap": null,
            "grid_row": null,
            "grid_template_areas": null,
            "grid_template_columns": null,
            "grid_template_rows": null,
            "height": null,
            "justify_content": null,
            "justify_items": null,
            "left": null,
            "margin": null,
            "max_height": null,
            "max_width": null,
            "min_height": null,
            "min_width": null,
            "object_fit": null,
            "object_position": null,
            "order": null,
            "overflow": null,
            "overflow_x": null,
            "overflow_y": null,
            "padding": null,
            "right": null,
            "top": null,
            "visibility": null,
            "width": null
          }
        },
        "c36fe5dcd1d74383bccdf8331605bd6e": {
          "model_module": "@jupyter-widgets/base",
          "model_name": "LayoutModel",
          "model_module_version": "1.2.0",
          "state": {
            "_model_module": "@jupyter-widgets/base",
            "_model_module_version": "1.2.0",
            "_model_name": "LayoutModel",
            "_view_count": null,
            "_view_module": "@jupyter-widgets/base",
            "_view_module_version": "1.2.0",
            "_view_name": "LayoutView",
            "align_content": null,
            "align_items": null,
            "align_self": null,
            "border": null,
            "bottom": null,
            "display": null,
            "flex": null,
            "flex_flow": null,
            "grid_area": null,
            "grid_auto_columns": null,
            "grid_auto_flow": null,
            "grid_auto_rows": null,
            "grid_column": null,
            "grid_gap": null,
            "grid_row": null,
            "grid_template_areas": null,
            "grid_template_columns": null,
            "grid_template_rows": null,
            "height": null,
            "justify_content": null,
            "justify_items": null,
            "left": null,
            "margin": null,
            "max_height": null,
            "max_width": null,
            "min_height": null,
            "min_width": null,
            "object_fit": null,
            "object_position": null,
            "order": null,
            "overflow": null,
            "overflow_x": null,
            "overflow_y": null,
            "padding": null,
            "right": null,
            "top": null,
            "visibility": null,
            "width": null
          }
        },
        "f9204eb663af4956a4b8fa43e2a18f5e": {
          "model_module": "@jupyter-widgets/controls",
          "model_name": "DescriptionStyleModel",
          "model_module_version": "1.5.0",
          "state": {
            "_model_module": "@jupyter-widgets/controls",
            "_model_module_version": "1.5.0",
            "_model_name": "DescriptionStyleModel",
            "_view_count": null,
            "_view_module": "@jupyter-widgets/base",
            "_view_module_version": "1.2.0",
            "_view_name": "StyleView",
            "description_width": ""
          }
        },
        "b7f1112be05b414fb347a421e6a591bc": {
          "model_module": "@jupyter-widgets/base",
          "model_name": "LayoutModel",
          "model_module_version": "1.2.0",
          "state": {
            "_model_module": "@jupyter-widgets/base",
            "_model_module_version": "1.2.0",
            "_model_name": "LayoutModel",
            "_view_count": null,
            "_view_module": "@jupyter-widgets/base",
            "_view_module_version": "1.2.0",
            "_view_name": "LayoutView",
            "align_content": null,
            "align_items": null,
            "align_self": null,
            "border": null,
            "bottom": null,
            "display": null,
            "flex": null,
            "flex_flow": null,
            "grid_area": null,
            "grid_auto_columns": null,
            "grid_auto_flow": null,
            "grid_auto_rows": null,
            "grid_column": null,
            "grid_gap": null,
            "grid_row": null,
            "grid_template_areas": null,
            "grid_template_columns": null,
            "grid_template_rows": null,
            "height": null,
            "justify_content": null,
            "justify_items": null,
            "left": null,
            "margin": null,
            "max_height": null,
            "max_width": null,
            "min_height": null,
            "min_width": null,
            "object_fit": null,
            "object_position": null,
            "order": null,
            "overflow": null,
            "overflow_x": null,
            "overflow_y": null,
            "padding": null,
            "right": null,
            "top": null,
            "visibility": null,
            "width": null
          }
        },
        "b9c8e714d9f5426c89bb28761feb4f02": {
          "model_module": "@jupyter-widgets/controls",
          "model_name": "ProgressStyleModel",
          "model_module_version": "1.5.0",
          "state": {
            "_model_module": "@jupyter-widgets/controls",
            "_model_module_version": "1.5.0",
            "_model_name": "ProgressStyleModel",
            "_view_count": null,
            "_view_module": "@jupyter-widgets/base",
            "_view_module_version": "1.2.0",
            "_view_name": "StyleView",
            "bar_color": null,
            "description_width": ""
          }
        },
        "34eac96f4aa44648acb71370bd61f59e": {
          "model_module": "@jupyter-widgets/base",
          "model_name": "LayoutModel",
          "model_module_version": "1.2.0",
          "state": {
            "_model_module": "@jupyter-widgets/base",
            "_model_module_version": "1.2.0",
            "_model_name": "LayoutModel",
            "_view_count": null,
            "_view_module": "@jupyter-widgets/base",
            "_view_module_version": "1.2.0",
            "_view_name": "LayoutView",
            "align_content": null,
            "align_items": null,
            "align_self": null,
            "border": null,
            "bottom": null,
            "display": null,
            "flex": null,
            "flex_flow": null,
            "grid_area": null,
            "grid_auto_columns": null,
            "grid_auto_flow": null,
            "grid_auto_rows": null,
            "grid_column": null,
            "grid_gap": null,
            "grid_row": null,
            "grid_template_areas": null,
            "grid_template_columns": null,
            "grid_template_rows": null,
            "height": null,
            "justify_content": null,
            "justify_items": null,
            "left": null,
            "margin": null,
            "max_height": null,
            "max_width": null,
            "min_height": null,
            "min_width": null,
            "object_fit": null,
            "object_position": null,
            "order": null,
            "overflow": null,
            "overflow_x": null,
            "overflow_y": null,
            "padding": null,
            "right": null,
            "top": null,
            "visibility": null,
            "width": null
          }
        },
        "21556dc37ec64f6b83748ca6dffddaee": {
          "model_module": "@jupyter-widgets/controls",
          "model_name": "DescriptionStyleModel",
          "model_module_version": "1.5.0",
          "state": {
            "_model_module": "@jupyter-widgets/controls",
            "_model_module_version": "1.5.0",
            "_model_name": "DescriptionStyleModel",
            "_view_count": null,
            "_view_module": "@jupyter-widgets/base",
            "_view_module_version": "1.2.0",
            "_view_name": "StyleView",
            "description_width": ""
          }
        }
      }
    }
  },
  "cells": [
    {
      "cell_type": "code",
      "execution_count": null,
      "metadata": {
        "id": "quwyPYUMzTRG"
      },
      "outputs": [],
      "source": [
        "import torch\n",
        "import torchvision\n",
        "import numpy as np\n",
        "import pandas as pd\n",
        "import matplotlib.pyplot as plt\n",
        "from torchvision import datasets, transforms\n",
        "from torch import nn, optim\n",
        "from time import time"
      ]
    },
    {
      "cell_type": "code",
      "source": [
        "#downloading training and test data\n",
        "training_data=torchvision.datasets.MNIST('/content', train=True, transform=transforms.ToTensor(), download=True)\n",
        "test_data=torchvision.datasets.MNIST('/content', train=False, transform=transforms.ToTensor(), download=True)"
      ],
      "metadata": {
        "id": "dG3u-l5S4Da5",
        "colab": {
          "base_uri": "https://localhost:8080/",
          "height": 423,
          "referenced_widgets": [
            "c22b365f3fb843329590477aea9fee8a",
            "77f646d448f647ad97ee4a8a10a57b9f",
            "03b667f8217342e89043b218ead3cd8b",
            "6fdf10d4eafe4c6db98e348da710c321",
            "952b8d2da26a4d858bc4ff721b1d65ba",
            "433fd8861e5346838f65cfd5ba8a7e54",
            "e7485ad810174688afc5ded2f2a5357a",
            "0efadba335124933aac2ee0e7a1fce37",
            "1da829d657ec427796aa284ead26ada1",
            "84bd6196894d478ba1f7028b10f7a720",
            "4c1eed164a774c0f818e3d4cdedd028d",
            "02d32a3f6edd4db8b1d6e5ff092b6d25",
            "260b1defc1034eae8266d2c34ac53d00",
            "af11f0c7af864628a9ba24f0d13264cd",
            "2772bfbb71e34951ab45503bf9e0c27f",
            "9423ec0420af4a6dbc156ddbe2ef6d6c",
            "3186dacde3e84414ae724a6282a09b4c",
            "aff3384df14e4cf5b3290bca08fc2f3e",
            "720ea7a8a7eb47c7958716e4576e1644",
            "09dd03e228224c0983e6d4162b2dd9b2",
            "8b24f762cb7b4bf6b13d3e98a2bf9e19",
            "b7a6f54abb7843f39ddd101beb222d25",
            "6f76ba42dc30490c9f1fdb02d6f06434",
            "6e2a3b9932774e679cfce9242a74b435",
            "adb8dfc40c894c40b12e1b2d110521c4",
            "ec44c33d229b45c99522c04c16780124",
            "606dc6cfd8ae4bc7aa84e85aea8ec7f0",
            "b754b88cb5ea4ac4bbf40f8786350e44",
            "f6847a5861d54109aaf7563fbfdb03e5",
            "9e88ff3d8f9a4e168f3946b712c3fbdd",
            "2167cae76a8c47ec92f4fef276cacc3b",
            "f4a1abcc67a84a9e92af96e35d63cc28",
            "75d6c8e94ed542f3aaec57cdc04a8135",
            "19558b81dd774e8fa9696cefbf839b33",
            "7030e3565bdd4afca4e2fb57cfe8b6e7",
            "a41664f5e00b4b23b93a5968d7b804fc",
            "8a05602a4edf4e4aa15c0c2a8527458b",
            "aa9e9e79cbc0416380ebbbd5d5023265",
            "c36fe5dcd1d74383bccdf8331605bd6e",
            "f9204eb663af4956a4b8fa43e2a18f5e",
            "b7f1112be05b414fb347a421e6a591bc",
            "b9c8e714d9f5426c89bb28761feb4f02",
            "34eac96f4aa44648acb71370bd61f59e",
            "21556dc37ec64f6b83748ca6dffddaee"
          ]
        },
        "outputId": "61fac3ba-36ab-4b97-d8b6-2f2a7209e81e"
      },
      "execution_count": null,
      "outputs": [
        {
          "output_type": "stream",
          "name": "stdout",
          "text": [
            "Downloading http://yann.lecun.com/exdb/mnist/train-images-idx3-ubyte.gz\n",
            "Downloading http://yann.lecun.com/exdb/mnist/train-images-idx3-ubyte.gz to /content/MNIST/raw/train-images-idx3-ubyte.gz\n"
          ]
        },
        {
          "output_type": "display_data",
          "data": {
            "text/plain": [
              "  0%|          | 0/9912422 [00:00<?, ?it/s]"
            ],
            "application/vnd.jupyter.widget-view+json": {
              "version_major": 2,
              "version_minor": 0,
              "model_id": "c22b365f3fb843329590477aea9fee8a"
            }
          },
          "metadata": {}
        },
        {
          "output_type": "stream",
          "name": "stdout",
          "text": [
            "Extracting /content/MNIST/raw/train-images-idx3-ubyte.gz to /content/MNIST/raw\n",
            "\n",
            "Downloading http://yann.lecun.com/exdb/mnist/train-labels-idx1-ubyte.gz\n",
            "Downloading http://yann.lecun.com/exdb/mnist/train-labels-idx1-ubyte.gz to /content/MNIST/raw/train-labels-idx1-ubyte.gz\n"
          ]
        },
        {
          "output_type": "display_data",
          "data": {
            "text/plain": [
              "  0%|          | 0/28881 [00:00<?, ?it/s]"
            ],
            "application/vnd.jupyter.widget-view+json": {
              "version_major": 2,
              "version_minor": 0,
              "model_id": "02d32a3f6edd4db8b1d6e5ff092b6d25"
            }
          },
          "metadata": {}
        },
        {
          "output_type": "stream",
          "name": "stdout",
          "text": [
            "Extracting /content/MNIST/raw/train-labels-idx1-ubyte.gz to /content/MNIST/raw\n",
            "\n",
            "Downloading http://yann.lecun.com/exdb/mnist/t10k-images-idx3-ubyte.gz\n",
            "Downloading http://yann.lecun.com/exdb/mnist/t10k-images-idx3-ubyte.gz to /content/MNIST/raw/t10k-images-idx3-ubyte.gz\n"
          ]
        },
        {
          "output_type": "display_data",
          "data": {
            "text/plain": [
              "  0%|          | 0/1648877 [00:00<?, ?it/s]"
            ],
            "application/vnd.jupyter.widget-view+json": {
              "version_major": 2,
              "version_minor": 0,
              "model_id": "6f76ba42dc30490c9f1fdb02d6f06434"
            }
          },
          "metadata": {}
        },
        {
          "output_type": "stream",
          "name": "stdout",
          "text": [
            "Extracting /content/MNIST/raw/t10k-images-idx3-ubyte.gz to /content/MNIST/raw\n",
            "\n",
            "Downloading http://yann.lecun.com/exdb/mnist/t10k-labels-idx1-ubyte.gz\n",
            "Downloading http://yann.lecun.com/exdb/mnist/t10k-labels-idx1-ubyte.gz to /content/MNIST/raw/t10k-labels-idx1-ubyte.gz\n"
          ]
        },
        {
          "output_type": "display_data",
          "data": {
            "text/plain": [
              "  0%|          | 0/4542 [00:00<?, ?it/s]"
            ],
            "application/vnd.jupyter.widget-view+json": {
              "version_major": 2,
              "version_minor": 0,
              "model_id": "19558b81dd774e8fa9696cefbf839b33"
            }
          },
          "metadata": {}
        },
        {
          "output_type": "stream",
          "name": "stdout",
          "text": [
            "Extracting /content/MNIST/raw/t10k-labels-idx1-ubyte.gz to /content/MNIST/raw\n",
            "\n"
          ]
        }
      ]
    },
    {
      "cell_type": "code",
      "source": [
        "#loading the DL'd data\n",
        "train_data_loader=torch.utils.data.DataLoader(dataset=training_data, batch_size=100,shuffle=True)\n",
        "test_data_loader=torch.utils.data.DataLoader(dataset=test_data, batch_size=100, shuffle=True)"
      ],
      "metadata": {
        "id": "ZFRD7_kU5576"
      },
      "execution_count": null,
      "outputs": []
    },
    {
      "cell_type": "code",
      "source": [
        "#separating sample and labels\n",
        "var=iter(train_data_loader)\n",
        "samples, labels=next(var)  #one sample: 1x28x28, 100 samples: 100x1x28x28"
      ],
      "metadata": {
        "id": "JAQgqGku1jCP"
      },
      "execution_count": null,
      "outputs": []
    },
    {
      "cell_type": "code",
      "source": [
        "#printing images from dataset\n",
        "#not necessary to do\n",
        "#line 8-> instead of squeezing the extra dimension, we specify axes for traversal\n",
        "plt.figure\n",
        "for i in range(10):\n",
        "  plt.subplot(2,5,i+1)   #establish grid\n",
        "  plt.axis('off')       #doesnt plot axes\n",
        "  plt.imshow(samples[i][0], cmap='gray_r')   #gray for white digit, gray_r for reverse\n",
        "plt.show()"
      ],
      "metadata": {
        "colab": {
          "base_uri": "https://localhost:8080/",
          "height": 207
        },
        "id": "VCL9zPQps2eR",
        "outputId": "6fda55d0-f404-4133-d0d6-cbb40b4e421f"
      },
      "execution_count": null,
      "outputs": [
        {
          "output_type": "display_data",
          "data": {
            "text/plain": [
              "<Figure size 432x288 with 10 Axes>"
            ],
            "image/png": "[encoded data removed]"
          },
          "metadata": {
            "needs_background": "light"
          }
        }
      ]
    },
    {
      "cell_type": "code",
      "source": [
        "#printing images from dataset\n",
        "#not necessary to do\n",
        "#samples is a 1x28x28 array. to print the image, we need only 28x28\n",
        "#line 9-> numpy.squeeze will remove the extra dimension from samples\n",
        "plt.figure\n",
        "for i in range(10):\n",
        "  plt.subplot(2,5,i+1)   #establish grid\n",
        "  plt.axis('off')       #doesnt plot axes\n",
        "  plt.imshow(samples[i].numpy().squeeze(), cmap='gray_r')   #gray for white digit, gray_r for reverse\n",
        "plt.show()"
      ],
      "metadata": {
        "colab": {
          "base_uri": "https://localhost:8080/",
          "height": 207
        },
        "id": "bNW3QXdw5BVV",
        "outputId": "01bc5b72-60e6-460c-bb5f-e49af1cfe868"
      },
      "execution_count": null,
      "outputs": [
        {
          "output_type": "display_data",
          "data": {
            "text/plain": [
              "<Figure size 432x288 with 10 Axes>"
            ],
            "image/png": "[encoded data removed]"
          },
          "metadata": {
            "needs_background": "light"
          }
        }
      ]
    },
    {
      "cell_type": "code",
      "source": [
        "input_size = 784  #28x28 pixel grid is flattened\n",
        "h_layer_sizes=[256,128, 64]\n",
        "output_size=10\n",
        "\n",
        "model= nn.Sequential(nn.Linear(input_size, h_layer_sizes[0]),\n",
        "                     nn.ReLU(),\n",
        "                     nn.Linear(h_layer_sizes[0], h_layer_sizes[1]),\n",
        "                     nn.ReLU(),\n",
        "                     nn.Linear(h_layer_sizes[1], h_layer_sizes[2]),\n",
        "                     nn.ReLU(),\n",
        "                     nn.Linear(h_layer_sizes[2], output_size),\n",
        "                     nn.LogSoftmax(dim=1) )\n",
        "print(model)"
      ],
      "metadata": {
        "colab": {
          "base_uri": "https://localhost:8080/"
        },
        "id": "qbkF-b4W04wF",
        "outputId": "836d8a72-fe2f-4802-f7e3-dde7fbed1e2f"
      },
      "execution_count": null,
      "outputs": [
        {
          "output_type": "stream",
          "name": "stdout",
          "text": [
            "Sequential(\n",
            "  (0): Linear(in_features=784, out_features=256, bias=True)\n",
            "  (1): ReLU()\n",
            "  (2): Linear(in_features=256, out_features=128, bias=True)\n",
            "  (3): ReLU()\n",
            "  (4): Linear(in_features=128, out_features=64, bias=True)\n",
            "  (5): ReLU()\n",
            "  (6): Linear(in_features=64, out_features=10, bias=True)\n",
            "  (7): LogSoftmax(dim=1)\n",
            ")\n"
          ]
        }
      ]
    },
    {
      "cell_type": "code",
      "source": [
        "#defining cost function\n",
        "criteria=nn.NLLLoss()\n",
        "images, labels = next(iter(train_data_loader))\n",
        "images=images.view(images.shape[0], -1)\n",
        "\n",
        "logps=model(images) #log probabilities-->output of model\n",
        "cost=criteria(logps, labels)  #calculate NLL Loss\n"
      ],
      "metadata": {
        "id": "H64wLer7_GP4"
      },
      "execution_count": null,
      "outputs": []
    },
    {
      "cell_type": "code",
      "source": [
        "#training and validation loops together\n",
        "optimizer=optim.SGD(model.parameters(), lr=0.01, momentum=0.8)\n",
        "time0=time()\n",
        "\n",
        "trloss=[]\n",
        "tracc=[]\n",
        "teloss=[]\n",
        "teacc=[]\n",
        "\n",
        "epochs=15  #no of traversals through MNIST dataset\n",
        "for e in range(epochs):\n",
        "  running_cost=0\n",
        "  testing_cost=0\n",
        "  #training\n",
        "  correct=0\n",
        "  for images, labels in train_data_loader:\n",
        "    #flatten images\n",
        "    images=images.view(images.shape[0], -1)\n",
        "    #train the network using 5 steps:\n",
        "\n",
        "    #step 1 forward\n",
        "    output=model(images)\n",
        "\n",
        "    #step 2 compute cost function\n",
        "    cost=criteria(output, labels)\n",
        "\n",
        "    #step 3 cleaning the gradient\n",
        "    optimizer.zero_grad()\n",
        "\n",
        "    #step 4 accumulate partial derivaties of cost wrt parameters ie. backprop\n",
        "    cost.backward()\n",
        "\n",
        "    #step 5 step in the oppsite direction of the gradient\n",
        "    optimizer.step()\n",
        "\n",
        "    running_cost+=cost.item()\n",
        "\n",
        "    #training_accuracy\n",
        "    pred = torch.argmax(output, dim = 1)\n",
        "    correct+= (pred==labels).sum().item()\n",
        "  accuracy=correct/len(training_data)\n",
        "  var_trloss=running_cost/len(train_data_loader)\n",
        "  print(\"Epoch {} - Training Loss: {}\".format(e+1,var_trloss))  #computing average of cost function over all training data\n",
        "  trloss.append(var_trloss)\n",
        "  tracc.append(accuracy)\n",
        "#validation loop\n",
        "  correct_count=0\n",
        "  for images, labels in test_data_loader:\n",
        "    img = images.view(images.shape[0], -1)\n",
        "\n",
        "    with torch.no_grad():\n",
        "      logps= model(img)\n",
        "\n",
        "    te_cost=criteria(logps, labels)\n",
        "\n",
        "    testing_cost += te_cost.item()\n",
        "\n",
        "    #testing_accuracy\n",
        "    preds = torch.argmax(logps, dim = 1)\n",
        "    correct_count += (preds == labels).sum()\n",
        "  te_acc=correct_count.item()/len(test_data)\n",
        "  var_teloss=testing_cost/len(test_data_loader)\n",
        "  print(\"Epoch {} - Testing Loss: {}\".format(e+1,var_teloss))\n",
        "  teloss.append(var_teloss)\n",
        "  teacc.append(te_acc)\n",
        "  print(\"Model Accuracy (in percentage)=\", te_acc*100, \"cc=\", correct_count.item(), \"ac=\", len(test_data))\n",
        "print(\"\\n Training Time (in minutes) =\", (time()-time0)/60)"
      ],
      "metadata": {
        "id": "Tirn_RT2omDz",
        "colab": {
          "base_uri": "https://localhost:8080/"
        },
        "outputId": "44547a3a-f00d-4cf9-b4db-f2a54da799d5"
      },
      "execution_count": null,
      "outputs": [
        {
          "output_type": "stream",
          "name": "stdout",
          "text": [
            "Epoch 1 - Training Loss: 1.2458642133573692\n",
            "Epoch 1 - Testing Loss: 0.39567068561911584\n",
            "Model Accuracy (in percentage)= 88.4 cc= 8840 ac= 10000\n",
            "Epoch 2 - Training Loss: 0.3467530490209659\n",
            "Epoch 2 - Testing Loss: 0.2861245535314083\n",
            "Model Accuracy (in percentage)= 91.49000000000001 cc= 9149 ac= 10000\n",
            "Epoch 3 - Training Loss: 0.24615400711695354\n",
            "Epoch 3 - Testing Loss: 0.20379265792667867\n",
            "Model Accuracy (in percentage)= 94.08999999999999 cc= 9409 ac= 10000\n",
            "Epoch 4 - Training Loss: 0.1880177065047125\n",
            "Epoch 4 - Testing Loss: 0.16165980972349644\n",
            "Model Accuracy (in percentage)= 95.13000000000001 cc= 9513 ac= 10000\n",
            "Epoch 5 - Training Loss: 0.1492766384811451\n",
            "Epoch 5 - Testing Loss: 0.14428597755730152\n",
            "Model Accuracy (in percentage)= 95.81 cc= 9581 ac= 10000\n",
            "Epoch 6 - Training Loss: 0.12353683529421687\n",
            "Epoch 6 - Testing Loss: 0.12364506874233484\n",
            "Model Accuracy (in percentage)= 96.25 cc= 9625 ac= 10000\n",
            "Epoch 7 - Training Loss: 0.1043875525239855\n",
            "Epoch 7 - Testing Loss: 0.1139506658539176\n",
            "Model Accuracy (in percentage)= 96.54 cc= 9654 ac= 10000\n",
            "Epoch 8 - Training Loss: 0.090294078256314\n",
            "Epoch 8 - Testing Loss: 0.09666564390063286\n",
            "Model Accuracy (in percentage)= 97.11 cc= 9711 ac= 10000\n",
            "Epoch 9 - Training Loss: 0.07897299915086478\n",
            "Epoch 9 - Testing Loss: 0.09408901499584317\n",
            "Model Accuracy (in percentage)= 97.0 cc= 9700 ac= 10000\n",
            "Epoch 10 - Training Loss: 0.06816005728207529\n",
            "Epoch 10 - Testing Loss: 0.0857549642957747\n",
            "Model Accuracy (in percentage)= 97.41 cc= 9741 ac= 10000\n",
            "Epoch 11 - Training Loss: 0.06117879245624257\n",
            "Epoch 11 - Testing Loss: 0.08782091921661049\n",
            "Model Accuracy (in percentage)= 97.36 cc= 9736 ac= 10000\n",
            "Epoch 12 - Training Loss: 0.05344479405476401\n",
            "Epoch 12 - Testing Loss: 0.08372132577002049\n",
            "Model Accuracy (in percentage)= 97.39999999999999 cc= 9740 ac= 10000\n",
            "Epoch 13 - Training Loss: 0.047327432648744436\n",
            "Epoch 13 - Testing Loss: 0.07918227727524936\n",
            "Model Accuracy (in percentage)= 97.6 cc= 9760 ac= 10000\n",
            "Epoch 14 - Training Loss: 0.041915005525030816\n",
            "Epoch 14 - Testing Loss: 0.07856790266931057\n",
            "Model Accuracy (in percentage)= 97.55 cc= 9755 ac= 10000\n",
            "Epoch 15 - Training Loss: 0.03759299805969931\n",
            "Epoch 15 - Testing Loss: 0.09061254636617377\n",
            "Model Accuracy (in percentage)= 97.21 cc= 9721 ac= 10000\n",
            "\n",
            " Training Time (in minutes) = 2.5187241435050964\n"
          ]
        }
      ]
    },
    {
      "cell_type": "code",
      "source": [
        "#plotting training loss and testing loss\n",
        "plt.figure\n",
        "aXis=[]\n",
        "for i in range(0,epochs):\n",
        "  aXis.append(i+1)\n",
        "plt.plot(aXis, trloss, label=\"training loss\")\n",
        "plt.plot(aXis, teloss, label=\"testing loss\")\n",
        "plt.legend(loc=\"upper right\")\n",
        "plt.xlabel(\"Epochs\")\n",
        "plt.ylabel(\"Losses\")\n"
      ],
      "metadata": {
        "id": "Cpz6K3MAvK5f",
        "colab": {
          "base_uri": "https://localhost:8080/",
          "height": 296
        },
        "outputId": "11bb2546-fa74-496a-9e3d-1ee2b0da08fc"
      },
      "execution_count": null,
      "outputs": [
        {
          "output_type": "execute_result",
          "data": {
            "text/plain": [
              "Text(0, 0.5, 'Losses')"
            ]
          },
          "metadata": {},
          "execution_count": 10
        },
        {
          "output_type": "display_data",
          "data": {
            "text/plain": [
              "<Figure size 432x288 with 1 Axes>"
            ],
            "image/png": "[encoded data removed]"
          },
          "metadata": {
            "needs_background": "light"
          }
        }
      ]
    },
    {
      "cell_type": "code",
      "source": [
        "#plotting training accuracy and testing accuracy\n",
        "plt.figure\n",
        "aXis=[]\n",
        "for i in range(0,epochs):\n",
        "  aXis.append(i+1)\n",
        "plt.plot(aXis, tracc, label=\"training accuracy\")\n",
        "plt.plot(aXis, teacc, label=\"testing accuracy\")\n",
        "plt.legend(loc=\"lower right\")\n",
        "plt.xlabel(\"Epochs\")\n",
        "plt.ylabel(\"Accuracy\")"
      ],
      "metadata": {
        "id": "3gnnKGN6NEPB",
        "colab": {
          "base_uri": "https://localhost:8080/",
          "height": 296
        },
        "outputId": "599a43e8-9e68-4b5c-96b7-9682e5916a49"
      },
      "execution_count": null,
      "outputs": [
        {
          "output_type": "execute_result",
          "data": {
            "text/plain": [
              "Text(0, 0.5, 'Accuracy')"
            ]
          },
          "metadata": {},
          "execution_count": 11
        },
        {
          "output_type": "display_data",
          "data": {
            "text/plain": [
              "<Figure size 432x288 with 1 Axes>"
            ],
            "image/png": "[encoded data removed]"
          },
          "metadata": {
            "needs_background": "light"
          }
        }
      ]
    },
    {
      "cell_type": "markdown",
      "source": [
        "# Different approaches explained\n"
      ],
      "metadata": {
        "id": "qX4NxuhW6OC6"
      }
    },
    {
      "cell_type": "markdown",
      "source": [
        "These are the basic steps I followed to build the model. There were some variations in a few steps, those are mentioned below as well\n",
        "1.   Import relevant libraries\n",
        "2.   Download dataset  \n",
        "3.   Define training and test data, load it.\n",
        "4.   Print some samples of the data\n",
        "Two approaches to print images one specifies array indices, other uses numpy.squeeze\n",
        "5.   Define the model\n",
        "6.   Train the network\n",
        "Forward prop\n",
        "Computing cost function\n",
        "Cleaning the gradient\n",
        "Backprop\n",
        "Step in the opposite direction to the gradient\n",
        "7.  Test the model\n",
        "8. Plot training and testing loss and accuracy to determine if and when overfitting occurs\n",
        "\n"
      ],
      "metadata": {
        "id": "DEsevAua8qK6"
      }
    },
    {
      "cell_type": "markdown",
      "source": [
        "I tried changing 2 major things in my code-\n",
        "\n",
        "a. Cost function-\n",
        "\n",
        "  i. Used logsoftmax() at the end (while defining the model) and subsequently, used NLLLoss to compute the cost function.\n",
        "\n",
        "  ii. Did not use logsoftmax() at  end and used crossentropyloss for computing the cost function.\n",
        "\n",
        "b.  Training and Testing\n",
        "\n",
        "  i. Used separate loops for training and testing the model\n",
        "\n",
        "  ii. Used a single loop and tested the model after each epoch\n",
        "\n",
        "This was done majorly so that I could visualize the convergence of the model. And also so that I could collect accuracy and loss data after each epoch, to plot those and check if any overfitting is occuring.\n",
        "\n",
        "The other thing I fiddled around with was the number of perceptron layers in the model. Number of layers defines the complexity of the network and while it makes it easier for the network to learn, too many layers lead to overfitting. I also fiddled around with batch size and learning rate. These two do not cause overfitting, but definitely do affect how fast the network learns, and how accurate it can get. I started with 5 perceptron layers between input and output, increased to 10, and then decreased to the current number of 3 hidden layers between input and output layer.\n",
        "Changing epoch number by an extreme amount also led to overfitting. Training for long on the same dataset has a higher chance of causing overfitting, thus explaining the results I obtained.\n",
        "\n",
        "Using the training accuracy vs testing accuracy plot, I could identify overfitting in the network with 10 layers, and hence, I started to decrease the number of layers in the model.\n"
      ],
      "metadata": {
        "id": "a8GdCil86m_h"
      }
    },
    {
      "cell_type": "markdown",
      "source": [
        "# Convergence and Overfitting\n"
      ],
      "metadata": {
        "id": "_0qXxR2D7UtG"
      }
    },
    {
      "cell_type": "markdown",
      "source": [
        "An untrained network starts with random weights and starts to “learn” by computing the gradient of an objective function and then adjusting weights accordingly (backprop). This process repeats and the weights get updated such that the value of the objective function decreases each time. Convergence happens when the objective function is minimized. The concept can be visualized as a measure of how close the model is to an ideal network."
      ],
      "metadata": {
        "id": "neVolFj38w4U"
      }
    },
    {
      "cell_type": "markdown",
      "source": [
        "Overfitting occurs when the model performs very well on the training data, but doesn’t translate that on the test data. It happens when the model is too complex relative to the amount of data. That can be because Increasing the number of hidden layers increases the amount of weights and if there isn't enough data to work with, it will cause the network to essentially memorize the training set. So training accuracy will be very high. But since the network can’t generalize well for new data, testing accuracy will dip. (This is how accuracy plots helped in identifying overfitting.)\n"
      ],
      "metadata": {
        "id": "PP2ELuB38kEG"
      }
    }
  ]
}